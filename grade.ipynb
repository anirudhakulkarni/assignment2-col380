{
 "cells": [
  {
   "cell_type": "code",
   "execution_count": 1,
   "metadata": {},
   "outputs": [],
   "source": [
    "import os\n",
    "import subprocess\n",
    "import csv\n",
    "import zipfile\n",
    "import time\n"
   ]
  },
  {
   "cell_type": "code",
   "execution_count": 2,
   "metadata": {},
   "outputs": [
    {
     "ename": "FileNotFoundError",
     "evalue": "[Errno 2] No such file or directory: '/path/to/submissions'",
     "output_type": "error",
     "traceback": [
      "\u001b[0;31m---------------------------------------------------------------------------\u001b[0m",
      "\u001b[0;31mFileNotFoundError\u001b[0m                         Traceback (most recent call last)",
      "Cell \u001b[0;32mIn[2], line 42\u001b[0m\n\u001b[1;32m     39\u001b[0m                 os\u001b[38;5;241m.\u001b[39msystem(\u001b[38;5;124m'\u001b[39m\u001b[38;5;124mrm -rf \u001b[39m\u001b[38;5;132;01m{}\u001b[39;00m\u001b[38;5;124m'\u001b[39m\u001b[38;5;241m.\u001b[39mformat(extract_path))\n\u001b[1;32m     41\u001b[0m \u001b[38;5;66;03m# Example usage:\u001b[39;00m\n\u001b[0;32m---> 42\u001b[0m \u001b[43mgrade_submissions\u001b[49m\u001b[43m(\u001b[49m\u001b[38;5;124;43m'\u001b[39;49m\u001b[38;5;124;43m/path/to/submissions\u001b[39;49m\u001b[38;5;124;43m'\u001b[39;49m\u001b[43m,\u001b[49m\u001b[43m \u001b[49m\u001b[38;5;124;43m'\u001b[39;49m\u001b[38;5;124;43m/path/to/testcases\u001b[39;49m\u001b[38;5;124;43m'\u001b[39;49m\u001b[43m,\u001b[49m\u001b[43m \u001b[49m\u001b[38;5;124;43m'\u001b[39;49m\u001b[38;5;124;43mgrades.csv\u001b[39;49m\u001b[38;5;124;43m'\u001b[39;49m\u001b[43m)\u001b[49m\n",
      "Cell \u001b[0;32mIn[2], line 29\u001b[0m, in \u001b[0;36mgrade_submissions\u001b[0;34m(submissions_directory, testcases_directory, output_csv)\u001b[0m\n\u001b[1;32m     26\u001b[0m csv_writer \u001b[38;5;241m=\u001b[39m csv\u001b[38;5;241m.\u001b[39mwriter(csvfile)\n\u001b[1;32m     27\u001b[0m csv_writer\u001b[38;5;241m.\u001b[39mwriterow([\u001b[38;5;124m'\u001b[39m\u001b[38;5;124mStudent\u001b[39m\u001b[38;5;124m'\u001b[39m, \u001b[38;5;124m'\u001b[39m\u001b[38;5;124mSubtask\u001b[39m\u001b[38;5;124m'\u001b[39m, \u001b[38;5;124m'\u001b[39m\u001b[38;5;124mExecution Time (s)\u001b[39m\u001b[38;5;124m'\u001b[39m, \u001b[38;5;124m'\u001b[39m\u001b[38;5;124mScore\u001b[39m\u001b[38;5;124m'\u001b[39m])\n\u001b[0;32m---> 29\u001b[0m \u001b[38;5;28;01mfor\u001b[39;00m submission_file \u001b[38;5;129;01min\u001b[39;00m \u001b[43mos\u001b[49m\u001b[38;5;241;43m.\u001b[39;49m\u001b[43mlistdir\u001b[49m\u001b[43m(\u001b[49m\u001b[43msubmissions_directory\u001b[49m\u001b[43m)\u001b[49m:\n\u001b[1;32m     30\u001b[0m     \u001b[38;5;28;01mif\u001b[39;00m submission_file\u001b[38;5;241m.\u001b[39mendswith(\u001b[38;5;124m'\u001b[39m\u001b[38;5;124m.zip\u001b[39m\u001b[38;5;124m'\u001b[39m):\n\u001b[1;32m     31\u001b[0m         student_name \u001b[38;5;241m=\u001b[39m submission_file\u001b[38;5;241m.\u001b[39msplit(\u001b[38;5;124m'\u001b[39m\u001b[38;5;124m.\u001b[39m\u001b[38;5;124m'\u001b[39m)[\u001b[38;5;241m0\u001b[39m]\n",
      "\u001b[0;31mFileNotFoundError\u001b[0m: [Errno 2] No such file or directory: '/path/to/submissions'"
     ]
    }
   ],
   "source": [
    "def extract_zip(zip_path, extract_path):\n",
    "    with zipfile.ZipFile(zip_path, 'r') as zip_ref:\n",
    "        zip_ref.extractall(extract_path)\n",
    "\n",
    "def run_submission(submission_path, subtask, testcases_directory):\n",
    "    start_time = time.time()\n",
    "    subprocess.run([\"CUDNN COMMAND\", subtask], cwd=submission_path, stdout=subprocess.PIPE, stderr=subprocess.PIPE)\n",
    "    end_time = time.time()\n",
    "    execution_time = end_time - start_time\n",
    "    score = calculate_score(submission_path, subtask, testcases_directory)\n",
    "    return execution_time, score\n",
    "\n",
    "def calculate_score(submission_path, subtask, testcases_directory):\n",
    "    if compare_output(submission_path, subtask, testcases_directory):\n",
    "        return 1\n",
    "    return 0\n",
    "\n",
    "def compare_output(output_path, correct_output_path):\n",
    "    # if correct_output_path file content is same as output_path file content\n",
    "    if open(output_path).read() == open(correct_output_path).read():\n",
    "        return True\n",
    "    return False\n",
    "\n",
    "def grade_submissions(submissions_directory, testcases_directory, output_csv):\n",
    "    with open(output_csv, 'w', newline='') as csvfile:\n",
    "        csv_writer = csv.writer(csvfile)\n",
    "        csv_writer.writerow(['Student', 'Subtask', 'Execution Time (s)', 'Score'])\n",
    "\n",
    "        for submission_file in os.listdir(submissions_directory):\n",
    "            if submission_file.endswith('.zip'):\n",
    "                student_name = submission_file.split('.')[0]\n",
    "                extract_path = os.path.join(submissions_directory, student_name)\n",
    "                extract_zip(os.path.join(submissions_directory, submission_file), extract_path)\n",
    "\n",
    "                for subtask in ['subtask1', 'subtask2']:\n",
    "                    subtask_execution_time, subtask_score = run_submission(extract_path, subtask, testcases_directory)\n",
    "                    csv_writer.writerow([student_name, subtask, subtask_execution_time, subtask_score])\n",
    "\n",
    "                os.system('rm -rf {}'.format(extract_path))\n",
    "\n",
    "# Example usage:\n",
    "grade_submissions('/path/to/submissions', 'correct_answers/', 'grades.csv')\n"
   ]
  },
  {
   "cell_type": "code",
   "execution_count": null,
   "metadata": {},
   "outputs": [],
   "source": []
  },
  {
   "cell_type": "code",
   "execution_count": null,
   "metadata": {},
   "outputs": [],
   "source": []
  }
 ],
 "metadata": {
  "kernelspec": {
   "display_name": "Python 3",
   "language": "python",
   "name": "python3"
  },
  "language_info": {
   "codemirror_mode": {
    "name": "ipython",
    "version": 3
   },
   "file_extension": ".py",
   "mimetype": "text/x-python",
   "name": "python",
   "nbconvert_exporter": "python",
   "pygments_lexer": "ipython3",
   "version": "3.10.13"
  }
 },
 "nbformat": 4,
 "nbformat_minor": 2
}
